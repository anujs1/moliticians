{
 "cells": [
  {
   "cell_type": "code",
   "execution_count": 15,
   "metadata": {},
   "outputs": [],
   "source": [
    "import requests\n",
    "import json\n",
    "import pandas as pd\n",
    "import numpy as np\n",
    "import matplotlib.pyplot as plt\n",
    "import seaborn as sns"
   ]
  },
  {
   "cell_type": "code",
   "execution_count": 16,
   "metadata": {},
   "outputs": [],
   "source": [
    "KEY_FILE_PATH = \"key.txt\"  # .gitignore\n",
    "API_KEY = \"\"\n",
    "with open(KEY_FILE_PATH) as f:\n",
    "  lines = f.readlines()\n",
    "  API_KEY = lines[1].split(':')[1].strip()"
   ]
  },
  {
   "cell_type": "code",
   "execution_count": 17,
   "metadata": {},
   "outputs": [],
   "source": [
    "url = \"https://api.quiverquant.com/beta/live/housetrading\"\n",
    "headers = {'accept': 'application/json',\n",
    "           'X-CSRFToken': 'TyTJwjuEC7VV7mOqZ622haRaaUr0x0Ng4nrwSRFKQs7vdoBcJlK9qjAS69ghzhFu',\n",
    "           'Authorization': f\"Token {API_KEY}\"}\n",
    "r = requests.get(url, headers=headers)\n",
    "parsed = json.loads(r.content)\n",
    "df = pd.DataFrame(parsed).set_index('Ticker')"
   ]
  }
 ],
 "metadata": {
  "kernelspec": {
   "display_name": "Python 3.9.16 ('base')",
   "language": "python",
   "name": "python3"
  },
  "language_info": {
   "codemirror_mode": {
    "name": "ipython",
    "version": 3
   },
   "file_extension": ".py",
   "mimetype": "text/x-python",
   "name": "python",
   "nbconvert_exporter": "python",
   "pygments_lexer": "ipython3",
   "version": "3.10.9"
  },
  "orig_nbformat": 4,
  "vscode": {
   "interpreter": {
    "hash": "9d9b8f8f01158b4162c6eca0c9e04004bdc609bdc275ae8230f5f735bd433193"
   }
  }
 },
 "nbformat": 4,
 "nbformat_minor": 2
}
